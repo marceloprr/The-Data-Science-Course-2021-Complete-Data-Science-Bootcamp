{
 "metadata": {
  "language_info": {
   "codemirror_mode": {
    "name": "ipython",
    "version": 3
   },
   "file_extension": ".py",
   "mimetype": "text/x-python",
   "name": "python",
   "nbconvert_exporter": "python",
   "pygments_lexer": "ipython3",
   "version": "3.8.8-final"
  },
  "orig_nbformat": 2,
  "kernelspec": {
   "name": "python3",
   "display_name": "Python 3.8.8 64-bit",
   "metadata": {
    "interpreter": {
     "hash": "c65bb57c1120999683ab2d46d44037033d7cd224b3d6c3738ddae0dcd3a96f6b"
    }
   }
  }
 },
 "nbformat": 4,
 "nbformat_minor": 2,
 "cells": [
  {
   "cell_type": "code",
   "execution_count": 1,
   "metadata": {},
   "outputs": [],
   "source": [
    "import numpy as np \n",
    "from sklearn import preprocessing\n",
    "\n",
    "raw_csv_data = np.loadtxt('rec/Audiobooks_data.csv', delimiter= ',')\n",
    "\n",
    "unscaled_inputs_all = raw_csv_data[:,1:-1]\n",
    "targets_all = raw_csv_data[:,-1]"
   ]
  },
  {
   "cell_type": "code",
   "execution_count": 2,
   "metadata": {},
   "outputs": [],
   "source": [
    "num_one_targets = int(np.sum(targets_all))\n",
    "zero_targets_counter = 0\n",
    "indices_to_remove = []\n",
    "\n",
    "for i in range(targets_all.shape[0]):\n",
    "    if targets_all[i] == 0:\n",
    "        zero_targets_counter += 1\n",
    "        if zero_targets_counter > num_one_targets:\n",
    "            indices_to_remove.append(i)\n",
    "\n",
    "unscaled_inputs_equals_priors = np.delete(unscaled_inputs_all, indices_to_remove, axis=0)\n",
    "targets_equal_priors = np.delete(targets_all, indices_to_remove, axis=0)"
   ]
  },
  {
   "cell_type": "code",
   "execution_count": 3,
   "metadata": {},
   "outputs": [],
   "source": [
    "scaled_inputs = preprocessing.scale(unscaled_inputs_equals_priors)"
   ]
  },
  {
   "cell_type": "code",
   "execution_count": 4,
   "metadata": {},
   "outputs": [],
   "source": [
    "shuffled_indices = np.arange(scaled_inputs.shape[0])\n",
    "np.random.shuffle(shuffled_indices)\n",
    "\n",
    "shuffled_inputs = scaled_inputs[shuffled_indices]\n",
    "shuffled_targets = targets_equal_priors[shuffled_indices]"
   ]
  },
  {
   "cell_type": "code",
   "execution_count": 5,
   "metadata": {},
   "outputs": [
    {
     "output_type": "stream",
     "name": "stdout",
     "text": [
      "1820.0 3579 0.508521933500978\n200.0 447 0.44742729306487694\n217.0 448 0.484375\n"
     ]
    }
   ],
   "source": [
    "samples_count = shuffled_inputs.shape[0]\n",
    "\n",
    "train_samples_count = int(0.8*samples_count)\n",
    "validation_samples_count = int(0.1*samples_count)\n",
    "test_samples_count = samples_count - train_samples_count - validation_samples_count\n",
    "\n",
    "train_inputs = shuffled_inputs[:train_samples_count]\n",
    "train_targets = shuffled_targets[:train_samples_count]\n",
    "\n",
    "validation_inputs = shuffled_inputs[train_samples_count:train_samples_count+validation_samples_count]\n",
    "validation_targets = shuffled_targets[train_samples_count:train_samples_count+validation_samples_count]\n",
    "\n",
    "test_inputs = shuffled_inputs[train_samples_count+validation_samples_count:]\n",
    "test_targets = shuffled_targets[train_samples_count+validation_samples_count:]\n",
    "\n",
    "print(np.sum(train_targets), train_samples_count, np.sum(train_targets) / train_samples_count)\n",
    "print(np.sum(validation_targets), validation_samples_count, np.sum(validation_targets) / validation_samples_count)\n",
    "print(np.sum(test_targets), test_samples_count, np.sum(test_targets) / test_samples_count)"
   ]
  },
  {
   "cell_type": "code",
   "execution_count": 6,
   "metadata": {},
   "outputs": [],
   "source": [
    "np.savez('Audiobooks_data_train', inputs=train_inputs, targets=train_targets)\n",
    "np.savez('Audiobooks_data_validation', inputs=validation_inputs, targets=validation_targets)\n",
    "np.savez('Audiobooks_data_test', inputs=test_inputs, targets=test_targets)"
   ]
  },
  {
   "cell_type": "code",
   "execution_count": 7,
   "metadata": {},
   "outputs": [],
   "source": [
    "import tensorflow as tf"
   ]
  },
  {
   "cell_type": "code",
   "execution_count": 8,
   "metadata": {},
   "outputs": [],
   "source": [
    "npz = np.load('Audiobooks_data_train.npz')\n",
    "ml_train_inputs = npz['inputs'].astype(np.float)\n",
    "ml_train_targets = npz['targets'].astype(np.int)\n",
    "\n",
    "npz = np.load('Audiobooks_data_validation.npz')\n",
    "ml_validation_inputs, ml_validation_targets = npz['inputs'].astype(np.float), npz['targets'].astype(np.int)\n",
    "\n",
    "npz = np.load('Audiobooks_data_test.npz')\n",
    "ml_test_inputs, ml_test_targets = npz['inputs'].astype(np.float), npz['targets'].astype(np.int)"
   ]
  },
  {
   "cell_type": "code",
   "execution_count": 9,
   "metadata": {},
   "outputs": [
    {
     "output_type": "stream",
     "name": "stdout",
     "text": [
      "Epoch 1/100\n",
      "36/36 - 4s - loss: 0.6020 - accuracy: 0.6980 - val_loss: 0.4139 - val_accuracy: 0.8926\n",
      "Epoch 2/100\n",
      "36/36 - 0s - loss: 0.3818 - accuracy: 0.8662 - val_loss: 0.3064 - val_accuracy: 0.9038\n",
      "Epoch 3/100\n",
      "36/36 - 0s - loss: 0.3303 - accuracy: 0.8773 - val_loss: 0.2803 - val_accuracy: 0.9060\n",
      "Epoch 4/100\n",
      "36/36 - 0s - loss: 0.3069 - accuracy: 0.8860 - val_loss: 0.2622 - val_accuracy: 0.9060\n",
      "Epoch 5/100\n",
      "36/36 - 0s - loss: 0.2910 - accuracy: 0.8919 - val_loss: 0.2534 - val_accuracy: 0.9128\n",
      "Epoch 6/100\n",
      "36/36 - 0s - loss: 0.2785 - accuracy: 0.8927 - val_loss: 0.2463 - val_accuracy: 0.9128\n",
      "Epoch 7/100\n",
      "36/36 - 0s - loss: 0.2707 - accuracy: 0.8983 - val_loss: 0.2414 - val_accuracy: 0.9128\n",
      "Epoch 8/100\n",
      "36/36 - 0s - loss: 0.2625 - accuracy: 0.8994 - val_loss: 0.2364 - val_accuracy: 0.9150\n",
      "Epoch 9/100\n",
      "36/36 - 0s - loss: 0.2600 - accuracy: 0.9025 - val_loss: 0.2319 - val_accuracy: 0.9128\n",
      "Epoch 10/100\n",
      "36/36 - 0s - loss: 0.2573 - accuracy: 0.9022 - val_loss: 0.2298 - val_accuracy: 0.9172\n",
      "Epoch 11/100\n",
      "36/36 - 0s - loss: 0.2535 - accuracy: 0.9030 - val_loss: 0.2318 - val_accuracy: 0.9195\n",
      "Epoch 12/100\n",
      "36/36 - 0s - loss: 0.2492 - accuracy: 0.9056 - val_loss: 0.2296 - val_accuracy: 0.9217\n",
      "Epoch 13/100\n",
      "36/36 - 0s - loss: 0.2467 - accuracy: 0.9053 - val_loss: 0.2278 - val_accuracy: 0.9195\n",
      "Epoch 14/100\n",
      "36/36 - 0s - loss: 0.2433 - accuracy: 0.9064 - val_loss: 0.2235 - val_accuracy: 0.9172\n",
      "Epoch 15/100\n",
      "36/36 - 0s - loss: 0.2415 - accuracy: 0.9070 - val_loss: 0.2319 - val_accuracy: 0.9150\n",
      "Epoch 16/100\n",
      "36/36 - 0s - loss: 0.2400 - accuracy: 0.9084 - val_loss: 0.2230 - val_accuracy: 0.9217\n",
      "Epoch 17/100\n",
      "36/36 - 0s - loss: 0.2386 - accuracy: 0.9111 - val_loss: 0.2241 - val_accuracy: 0.9172\n",
      "Epoch 18/100\n",
      "36/36 - 0s - loss: 0.2378 - accuracy: 0.9095 - val_loss: 0.2221 - val_accuracy: 0.9262\n",
      "Epoch 19/100\n",
      "36/36 - 0s - loss: 0.2397 - accuracy: 0.9111 - val_loss: 0.2199 - val_accuracy: 0.9195\n",
      "Epoch 20/100\n",
      "36/36 - 0s - loss: 0.2350 - accuracy: 0.9131 - val_loss: 0.2233 - val_accuracy: 0.9172\n",
      "Epoch 21/100\n",
      "36/36 - 0s - loss: 0.2366 - accuracy: 0.9106 - val_loss: 0.2243 - val_accuracy: 0.9195\n"
     ]
    },
    {
     "output_type": "execute_result",
     "data": {
      "text/plain": [
       "<tensorflow.python.keras.callbacks.History at 0x18bdd663a90>"
      ]
     },
     "metadata": {},
     "execution_count": 9
    }
   ],
   "source": [
    " input_size = 10\n",
    " output_size = 2\n",
    " hidden_layer_size = 50\n",
    "\n",
    " model = tf.keras.Sequential([\n",
    "     tf.keras.layers.Dense(hidden_layer_size, activation='relu'),\n",
    "     tf.keras.layers.Dense(hidden_layer_size, activation='relu'),\n",
    "     tf.keras.layers.Dense(output_size, activation='softmax')\n",
    " ])\n",
    "\n",
    " model.compile(optimizer='adam', loss='sparse_categorical_crossentropy', metrics=['accuracy'])\n",
    "\n",
    " batch_size = 100\n",
    " max_epochs = 100\n",
    "\n",
    "early_stopping = tf.keras.callbacks.EarlyStopping(patience=2)\n",
    "\n",
    " model.fit(ml_train_inputs,\n",
    " ml_train_targets,\n",
    " batch_size = batch_size,\n",
    " epochs= max_epochs,\n",
    " validation_data=(ml_validation_inputs, ml_validation_targets),\n",
    " verbose = 2,\n",
    " callbacks = [early_stopping]\n",
    " )"
   ]
  },
  {
   "cell_type": "code",
   "execution_count": 11,
   "metadata": {},
   "outputs": [
    {
     "output_type": "stream",
     "name": "stdout",
     "text": [
      "14/14 [==============================] - 0s 2ms/step - loss: 0.2581 - accuracy: 0.8951\n"
     ]
    }
   ],
   "source": [
    "test_loss, test_accuracy = model.evaluate(test_inputs, test_targets)"
   ]
  },
  {
   "cell_type": "code",
   "execution_count": 12,
   "metadata": {},
   "outputs": [
    {
     "output_type": "stream",
     "name": "stdout",
     "text": [
      "\nTeste loss: 0.26. Test accuracy: 89.51%\n"
     ]
    }
   ],
   "source": [
    "print('\\nTeste loss: {0:.2f}. Test accuracy: {1:.2f}%'.format(test_loss, test_accuracy*100))"
   ]
  },
  {
   "cell_type": "code",
   "execution_count": null,
   "metadata": {},
   "outputs": [],
   "source": [
    " #Kaggle"
   ]
  }
 ]
}